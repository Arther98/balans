{
 "cells": [
  {
   "cell_type": "code",
   "execution_count": 11,
   "metadata": {},
   "outputs": [],
   "source": [
    "import time\n",
    "def get_input(list_of_groups):\n",
    "    answer = str()\n",
    "    categorie = str()\n",
    "    \n",
    "    while answer != \"1\" and answer != \"2\":\n",
    "        print(\"Enter 1 for income\")\n",
    "        print(\"Enter 2 for expense\")\n",
    "        answer = input(\"choice:\") \n",
    "    \n",
    "    if  answer == 1:\n",
    "        source = input(\"Where did the income come from? source:\")\n",
    "        amount = input(\"How many money is it? EUR: \")\n",
    "        \n",
    "        if input(\"Was the income today? y/n\") == \"y\" :\n",
    "            date = time.strftime(\"%d/%m/%Y\")\n",
    "        else:\n",
    "            date = input(\"When did this income come? fromat:dd/mm/yy\")\n",
    "        \n",
    "        if input(\"Can this income can be categorized? y/n\") == \"y\":\n",
    "            categorie = input(\"Categorie\")\n",
    "            \n",
    "    elif answer == 2:\n",
    "        source = input(\"Where did you spend the money on? source:\")\n",
    "        amount = input(\"How many money is it? EUR: \")\n",
    "        \n",
    "        if input(\"Was the money spend today? y/n\") == \"y\" :\n",
    "            date = time.strftime(\"%d/%m/%Y\")\n",
    "        else:\n",
    "            date = input(\"When was this money spend? fromat:dd/mm/yy\")\n",
    "           \n",
    "        if input(\"Can the expense  be categorized? y/n\") == \"y\":\n",
    "            categorie = input(\"Categorie\")\n",
    "    \n",
    "    user_input = {\n",
    "        \"source\" : source,\n",
    "        \"amount\" : amount,\n",
    "        \"date\" : date,\n",
    "        \"categorie\" : categorie\n",
    "    }\n",
    "    return user_input"
   ]
  },
  {
   "cell_type": "code",
   "execution_count": null,
   "metadata": {},
   "outputs": [
    {
     "name": "stdout",
     "output_type": "stream",
     "text": [
      "Enter 1 for income\n",
      "Enter 2 for expense\n",
      "choice:2\n",
      "Enter 1 for income\n",
      "Enter 2 for expense\n",
      "choice:2\n",
      "Enter 1 for income\n",
      "Enter 2 for expense\n"
     ]
    }
   ],
   "source": [
    "print(get_input(list()))"
   ]
  },
  {
   "cell_type": "code",
   "execution_count": null,
   "metadata": {},
   "outputs": [],
   "source": []
  }
 ],
 "metadata": {
  "kernelspec": {
   "display_name": "Python 3",
   "language": "python",
   "name": "python3"
  },
  "language_info": {
   "codemirror_mode": {
    "name": "ipython",
    "version": 3
   },
   "file_extension": ".py",
   "mimetype": "text/x-python",
   "name": "python",
   "nbconvert_exporter": "python",
   "pygments_lexer": "ipython3",
   "version": "3.7.0"
  }
 },
 "nbformat": 4,
 "nbformat_minor": 2
}
